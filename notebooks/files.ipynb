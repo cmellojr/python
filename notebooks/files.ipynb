{
 "cells": [
  {
   "cell_type": "code",
   "execution_count": 3,
   "id": "e6b90350-1c08-4960-ba04-ead3e0f3f6ea",
   "metadata": {},
   "outputs": [
    {
     "data": {
      "text/plain": [
       "'/home/cajr/prog/python/notebooks'"
      ]
     },
     "execution_count": 3,
     "metadata": {},
     "output_type": "execute_result"
    }
   ],
   "source": [
    "pwd"
   ]
  },
  {
   "cell_type": "code",
   "execution_count": 1,
   "id": "4502b30d-547b-4ec8-a456-e6b8c88ab0ce",
   "metadata": {},
   "outputs": [],
   "source": [
    "f = open('practice.txt','w+')\n",
    "f.write('This is a text string')\n",
    "f.close()"
   ]
  },
  {
   "cell_type": "code",
   "execution_count": 4,
   "id": "8691912f-f49d-4cff-80ee-43ac8c35dac6",
   "metadata": {},
   "outputs": [
    {
     "data": {
      "text/plain": [
       "'/home/cajr/prog/python/notebooks'"
      ]
     },
     "execution_count": 4,
     "metadata": {},
     "output_type": "execute_result"
    }
   ],
   "source": [
    "import os\n",
    "\n",
    "os.getcwd()"
   ]
  },
  {
   "cell_type": "code",
   "execution_count": 11,
   "id": "6de6839f-017e-4615-8423-eb043056c94b",
   "metadata": {},
   "outputs": [
    {
     "data": {
      "text/plain": [
       "['rust',\n",
       " 'qemu_scripts',\n",
       " 'c',\n",
       " 'fide_crawler',\n",
       " 'angular-course',\n",
       " 'Advent_of_Code',\n",
       " 'bash',\n",
       " 'python_old',\n",
       " 'lib_backup',\n",
       " '.art.swp',\n",
       " 'python']"
      ]
     },
     "execution_count": 11,
     "metadata": {},
     "output_type": "execute_result"
    }
   ],
   "source": [
    "os.listdir('prog')"
   ]
  },
  {
   "cell_type": "code",
   "execution_count": 12,
   "id": "94f13942-9f26-4cf2-8770-7c7a0668aced",
   "metadata": {},
   "outputs": [],
   "source": [
    "import shutil"
   ]
  },
  {
   "cell_type": "code",
   "execution_count": 13,
   "id": "9f682db9-b2ba-4204-8723-9d204de36cd7",
   "metadata": {},
   "outputs": [
    {
     "data": {
      "text/plain": [
       "'prog/practice.txt'"
      ]
     },
     "execution_count": 13,
     "metadata": {},
     "output_type": "execute_result"
    }
   ],
   "source": [
    "shutil.move('practice.txt', 'prog')"
   ]
  },
  {
   "cell_type": "code",
   "execution_count": 14,
   "id": "0e55d6ce-fe7e-4238-804a-aba07d38e9c2",
   "metadata": {},
   "outputs": [
    {
     "data": {
      "text/plain": [
       "['practice.txt',\n",
       " 'rust',\n",
       " 'qemu_scripts',\n",
       " 'c',\n",
       " 'fide_crawler',\n",
       " 'angular-course',\n",
       " 'Advent_of_Code',\n",
       " 'bash',\n",
       " 'python_old',\n",
       " 'lib_backup',\n",
       " '.art.swp',\n",
       " 'python']"
      ]
     },
     "execution_count": 14,
     "metadata": {},
     "output_type": "execute_result"
    }
   ],
   "source": [
    "os.listdir('prog')"
   ]
  },
  {
   "cell_type": "code",
   "execution_count": 15,
   "id": "14bb94dd-b06c-47fe-9a02-9a947f08cc93",
   "metadata": {},
   "outputs": [],
   "source": [
    "import send2trash"
   ]
  },
  {
   "cell_type": "code",
   "execution_count": 16,
   "id": "11f19fd6-9551-4d45-b3a5-6b46efcc1e6b",
   "metadata": {},
   "outputs": [
    {
     "data": {
      "text/plain": [
       "'/home/cajr/practice.txt'"
      ]
     },
     "execution_count": 16,
     "metadata": {},
     "output_type": "execute_result"
    }
   ],
   "source": [
    "shutil.move('prog/practice.txt', os.getcwd())"
   ]
  },
  {
   "cell_type": "code",
   "execution_count": 2,
   "id": "db4a698e-ce37-425b-98cd-dcfc7311cf96",
   "metadata": {},
   "outputs": [
    {
     "data": {
      "text/plain": [
       "<function posix.getcwd()>"
      ]
     },
     "execution_count": 2,
     "metadata": {},
     "output_type": "execute_result"
    }
   ],
   "source": [
    "os.getcwd"
   ]
  },
  {
   "cell_type": "code",
   "execution_count": 5,
   "id": "027e0558-df88-4115-9b02-6d6adedffbc3",
   "metadata": {},
   "outputs": [],
   "source": [
    "import send2trash"
   ]
  },
  {
   "cell_type": "code",
   "execution_count": 6,
   "id": "2d97a1ea-c260-41ee-9bac-b7d66a784ba8",
   "metadata": {},
   "outputs": [
    {
     "data": {
      "text/plain": [
       "['files.ipynb',\n",
       " 'black_jack_game.ipynb',\n",
       " 'python_course.ipynb',\n",
       " 'cardgame.ipynb',\n",
       " '.ipynb_checkpoints']"
      ]
     },
     "execution_count": 6,
     "metadata": {},
     "output_type": "execute_result"
    }
   ],
   "source": [
    "os.listdir()"
   ]
  },
  {
   "cell_type": "code",
   "execution_count": 7,
   "id": "fd331aab-b8d1-41bb-bb4a-42c31a697558",
   "metadata": {},
   "outputs": [
    {
     "data": {
      "text/plain": [
       "['files.ipynb',\n",
       " 'black_jack_game.ipynb',\n",
       " 'python_course.ipynb',\n",
       " 'cardgame.ipynb',\n",
       " '.ipynb_checkpoints']"
      ]
     },
     "execution_count": 7,
     "metadata": {},
     "output_type": "execute_result"
    }
   ],
   "source": [
    "os.listdir()"
   ]
  },
  {
   "cell_type": "code",
   "execution_count": 8,
   "id": "aaceac8e-8223-4272-9dae-7fc5584f3a12",
   "metadata": {},
   "outputs": [
    {
     "data": {
      "text/plain": [
       "'/home/cajr/prog/python/notebooks'"
      ]
     },
     "execution_count": 8,
     "metadata": {},
     "output_type": "execute_result"
    }
   ],
   "source": [
    "os.getcwd()"
   ]
  },
  {
   "cell_type": "code",
   "execution_count": 11,
   "id": "46b19a21-6b41-4735-8138-93097a9d7448",
   "metadata": {},
   "outputs": [
    {
     "name": "stdout",
     "output_type": "stream",
     "text": [
      "Currently looking at /home/cajr/prog/python/notebooks\n",
      "\n",
      "\n",
      "The subfolders are: \n",
      "Subfolder: .ipynb_checkpoints\n",
      "\n",
      "\n",
      "The files are: \n",
      "\t File: files.ipynb\n",
      "\t File: black_jack_game.ipynb\n",
      "\t File: python_course.ipynb\n",
      "\t File: cardgame.ipynb\n",
      "\n",
      "\n",
      "Currently looking at /home/cajr/prog/python/notebooks/.ipynb_checkpoints\n",
      "\n",
      "\n",
      "The subfolders are: \n",
      "\n",
      "\n",
      "The files are: \n",
      "\t File: files-checkpoint.ipynb\n",
      "\n",
      "\n"
     ]
    }
   ],
   "source": [
    "for folder,sub_folders,files in os.walk(os.getcwd()):\n",
    "    print(f'Currently looking at {folder}')\n",
    "    print('\\n')\n",
    "    print('The subfolders are: ')\n",
    "    for sub_fold in sub_folders:\n",
    "        print(f'Subfolder: {sub_fold}')\n",
    "    \n",
    "    print('\\n')\n",
    "    print('The files are: ')\n",
    "    for f in files:\n",
    "        print(f'\\t File: {f}')\n",
    "    print('\\n')\n",
    "    \n",
    "        "
   ]
  },
  {
   "cell_type": "code",
   "execution_count": null,
   "id": "5d02e4c8-2907-4232-88b6-7726a15f0200",
   "metadata": {},
   "outputs": [],
   "source": []
  }
 ],
 "metadata": {
  "kernelspec": {
   "display_name": "Python 3 (ipykernel)",
   "language": "python",
   "name": "python3"
  },
  "language_info": {
   "codemirror_mode": {
    "name": "ipython",
    "version": 3
   },
   "file_extension": ".py",
   "mimetype": "text/x-python",
   "name": "python",
   "nbconvert_exporter": "python",
   "pygments_lexer": "ipython3",
   "version": "3.11.9"
  }
 },
 "nbformat": 4,
 "nbformat_minor": 5
}
