{
 "cells": [
  {
   "cell_type": "code",
   "execution_count": 2,
   "id": "0996f4bc-d9fc-4931-a18f-cf2b8ad236c5",
   "metadata": {},
   "outputs": [],
   "source": [
    "stock_prices = [('APPL',200),('GOOG',400),('MSFT',100)]"
   ]
  },
  {
   "cell_type": "code",
   "execution_count": 3,
   "id": "e04d1ec6-8011-4249-a901-d2365421ef60",
   "metadata": {},
   "outputs": [
    {
     "name": "stdout",
     "output_type": "stream",
     "text": [
      "('APPL', 200)\n",
      "('GOOG', 400)\n",
      "('MSFT', 100)\n"
     ]
    }
   ],
   "source": [
    "for item in stock_prices:\n",
    "    print(item)"
   ]
  },
  {
   "cell_type": "code",
   "execution_count": 5,
   "id": "efb84356-fb68-4389-a8fa-e5a92f750e8a",
   "metadata": {},
   "outputs": [
    {
     "name": "stdout",
     "output_type": "stream",
     "text": [
      "220.0\n",
      "440.0\n",
      "110.0\n"
     ]
    }
   ],
   "source": [
    "for ticker,price in stock_prices:\n",
    "    print(price+(0.1*price))"
   ]
  },
  {
   "cell_type": "code",
   "execution_count": 11,
   "id": "91ea34ca-12da-4711-b509-9200492bf6e1",
   "metadata": {},
   "outputs": [],
   "source": [
    "work_hours = [('Abby',100),('Billy',4000),('Cassie',800)]"
   ]
  },
  {
   "cell_type": "code",
   "execution_count": 9,
   "id": "a0a0c7ba-5af1-4e74-84db-158b36286e7b",
   "metadata": {},
   "outputs": [],
   "source": [
    "def employee_check(work_hours):\n",
    "\n",
    "    current_max = 0\n",
    "    emplyee_of_month = ''\n",
    "\n",
    "    for employee,hours in work_hours:\n",
    "        if hours > current_max:\n",
    "            current_max = hours\n",
    "            employee_of_month = employee\n",
    "        else:\n",
    "            pass\n",
    "\n",
    "    #Return\n",
    "    return (employee_of_month,current_max)"
   ]
  },
  {
   "cell_type": "code",
   "execution_count": 12,
   "id": "16326dcd-ec1a-4fcd-9db9-9e7971becdc4",
   "metadata": {},
   "outputs": [
    {
     "data": {
      "text/plain": [
       "('Billy', 4000)"
      ]
     },
     "execution_count": 12,
     "metadata": {},
     "output_type": "execute_result"
    }
   ],
   "source": [
    "employee_check(work_hours)"
   ]
  },
  {
   "cell_type": "code",
   "execution_count": 15,
   "id": "bfcbb04f-5c59-4870-b7da-458149d467f7",
   "metadata": {},
   "outputs": [],
   "source": [
    "def myfunc(a,b,c=0,d=0):\n",
    "  # Returns 5% of the sum of a and b\n",
    "  return sum((a,b,c,d)) * 0.05 \n"
   ]
  },
  {
   "cell_type": "code",
   "execution_count": 16,
   "id": "cc9a6664-5da0-441a-bcc4-7b9f3ba5e201",
   "metadata": {},
   "outputs": [
    {
     "data": {
      "text/plain": [
       "10.0"
      ]
     },
     "execution_count": 16,
     "metadata": {},
     "output_type": "execute_result"
    }
   ],
   "source": [
    "myfunc(40,60,100)"
   ]
  },
  {
   "cell_type": "code",
   "execution_count": 17,
   "id": "27608a0a-704d-4a2c-b39c-3be7056fa6f7",
   "metadata": {},
   "outputs": [],
   "source": [
    "def myfunc(*args):\n",
    "    return sum(args) * 0.05"
   ]
  },
  {
   "cell_type": "code",
   "execution_count": 19,
   "id": "3cc2725d-5810-4a67-ad92-f172b58ba840",
   "metadata": {},
   "outputs": [
    {
     "data": {
      "text/plain": [
       "11.75"
      ]
     },
     "execution_count": 19,
     "metadata": {},
     "output_type": "execute_result"
    }
   ],
   "source": [
    "myfunc(40,60,100,1,34)"
   ]
  },
  {
   "cell_type": "code",
   "execution_count": 25,
   "id": "11e3ec87-b576-40f6-9eb7-4729be2aa531",
   "metadata": {},
   "outputs": [],
   "source": [
    "def myfunc(**kwargs):\n",
    "    print(kwargs)\n",
    "    if 'fruit' in kwargs:\n",
    "        print('My fruit of choice is {}'.format(kwargs['fruit']))\n",
    "    else:\n",
    "        print('I did not find any fruit here')"
   ]
  },
  {
   "cell_type": "code",
   "execution_count": 26,
   "id": "bd06e973-9404-45d4-b958-8a954db6760b",
   "metadata": {},
   "outputs": [
    {
     "name": "stdout",
     "output_type": "stream",
     "text": [
      "{'fruit': 'apple', 'veggie': 'lettice'}\n",
      "My fruit of choice is apple\n"
     ]
    }
   ],
   "source": [
    "myfunc(fruit='apple',veggie='lettice')"
   ]
  },
  {
   "cell_type": "code",
   "execution_count": 28,
   "id": "f3d9ee4c-4a09-4569-a59d-3e9fb204c9a7",
   "metadata": {},
   "outputs": [],
   "source": [
    "def myfunc(*args,**kwargs):\n",
    "\n",
    "    print('I would like {} {}'.format(args[0],kwargs['food']))"
   ]
  },
  {
   "cell_type": "code",
   "execution_count": 30,
   "id": "9b4a57c3-c8f6-483a-9f2e-0d24fb7b3885",
   "metadata": {},
   "outputs": [
    {
     "name": "stdout",
     "output_type": "stream",
     "text": [
      "I would like 10 eggs\n"
     ]
    }
   ],
   "source": [
    "myfunc(10,20,30,fruit='orange',food='eggs')"
   ]
  },
  {
   "cell_type": "code",
   "execution_count": 31,
   "id": "502bd200-fe4e-4cfa-9598-49acb1259042",
   "metadata": {},
   "outputs": [],
   "source": [
    "def square(num):\n",
    "    return num**2"
   ]
  },
  {
   "cell_type": "code",
   "execution_count": 32,
   "id": "879b6886-df0f-4d71-9b39-f58717d78a24",
   "metadata": {},
   "outputs": [],
   "source": [
    "my_nums = [1,2,3,4,5]"
   ]
  },
  {
   "cell_type": "code",
   "execution_count": 34,
   "id": "d2969055-51d2-4adc-8293-20f9f9a7857f",
   "metadata": {},
   "outputs": [
    {
     "name": "stdout",
     "output_type": "stream",
     "text": [
      "1\n",
      "4\n",
      "9\n",
      "16\n",
      "25\n"
     ]
    }
   ],
   "source": [
    "for item in map(square,my_nums):\n",
    "    print(item)"
   ]
  },
  {
   "cell_type": "code",
   "execution_count": 35,
   "id": "daa3fd05-8107-40e3-a66e-ce72f82017a2",
   "metadata": {},
   "outputs": [
    {
     "data": {
      "text/plain": [
       "[1, 4, 9, 16, 25]"
      ]
     },
     "execution_count": 35,
     "metadata": {},
     "output_type": "execute_result"
    }
   ],
   "source": [
    "list(map(square,my_nums))"
   ]
  },
  {
   "cell_type": "code",
   "execution_count": 36,
   "id": "1d612217-920d-4155-ae10-223b60611021",
   "metadata": {},
   "outputs": [],
   "source": [
    "def splicer(mystring):\n",
    "    if len(mystring)%2 == 0:\n",
    "        return 'EVEN'\n",
    "    else:\n",
    "        return mystring[0]"
   ]
  },
  {
   "cell_type": "code",
   "execution_count": 39,
   "id": "b1e6b76e-b0af-4aeb-9b31-19161a6ebcc0",
   "metadata": {},
   "outputs": [],
   "source": [
    "names = ['Andy','Eve','Sally'] "
   ]
  },
  {
   "cell_type": "code",
   "execution_count": 40,
   "id": "048e9708-d8ef-4a97-8d25-710234cd79f7",
   "metadata": {},
   "outputs": [
    {
     "data": {
      "text/plain": [
       "['EVEN', 'E', 'S']"
      ]
     },
     "execution_count": 40,
     "metadata": {},
     "output_type": "execute_result"
    }
   ],
   "source": [
    "list(map(splicer,names))"
   ]
  },
  {
   "cell_type": "code",
   "execution_count": 41,
   "id": "d4945df0-f505-41b6-a6f3-37b1272bec29",
   "metadata": {},
   "outputs": [],
   "source": [
    "def check_even(num):\n",
    "    return num%2 == 0"
   ]
  },
  {
   "cell_type": "code",
   "execution_count": 42,
   "id": "53d7bc6c-9396-48a5-989f-19655b05fa29",
   "metadata": {},
   "outputs": [],
   "source": [
    "mynums = [1,2,3,4,5,6]"
   ]
  },
  {
   "cell_type": "code",
   "execution_count": 44,
   "id": "2996a75a-bfad-49c1-9d20-711c99981f9c",
   "metadata": {},
   "outputs": [
    {
     "data": {
      "text/plain": [
       "[2, 4, 6]"
      ]
     },
     "execution_count": 44,
     "metadata": {},
     "output_type": "execute_result"
    }
   ],
   "source": [
    "list(filter(check_even,mynums))"
   ]
  },
  {
   "cell_type": "code",
   "execution_count": 45,
   "id": "5237b013-eb3e-4959-960f-8314027a608a",
   "metadata": {},
   "outputs": [
    {
     "name": "stdout",
     "output_type": "stream",
     "text": [
      "2\n",
      "4\n",
      "6\n"
     ]
    }
   ],
   "source": [
    "for n in filter(check_even,mynums):\n",
    "    print(n)"
   ]
  },
  {
   "cell_type": "code",
   "execution_count": 46,
   "id": "0ce329df-5617-404b-ae47-ec75a908caf2",
   "metadata": {},
   "outputs": [],
   "source": [
    "def square(num):\n",
    "    result = num ** 2\n",
    "    return result"
   ]
  },
  {
   "cell_type": "code",
   "execution_count": 48,
   "id": "4fce1356-c06d-4229-ae86-eb1729b89ba5",
   "metadata": {},
   "outputs": [
    {
     "data": {
      "text/plain": [
       "9"
      ]
     },
     "execution_count": 48,
     "metadata": {},
     "output_type": "execute_result"
    }
   ],
   "source": [
    "square(3)"
   ]
  },
  {
   "cell_type": "code",
   "execution_count": 50,
   "id": "734d39ce-9bdc-478f-98bb-c7bce981f4e8",
   "metadata": {},
   "outputs": [],
   "source": [
    "square = lambda num: num ** 2"
   ]
  },
  {
   "cell_type": "code",
   "execution_count": 51,
   "id": "340d818b-0337-4867-a1d6-a741e5527f37",
   "metadata": {},
   "outputs": [
    {
     "data": {
      "text/plain": [
       "9"
      ]
     },
     "execution_count": 51,
     "metadata": {},
     "output_type": "execute_result"
    }
   ],
   "source": [
    "square(3)"
   ]
  },
  {
   "cell_type": "code",
   "execution_count": 52,
   "id": "cf156fba-adbc-4707-8ba6-92dd63641213",
   "metadata": {},
   "outputs": [
    {
     "data": {
      "text/plain": [
       "[1, 4, 9, 16, 25, 36]"
      ]
     },
     "execution_count": 52,
     "metadata": {},
     "output_type": "execute_result"
    }
   ],
   "source": [
    "list(map(lambda num : num ** 2, mynums))"
   ]
  },
  {
   "cell_type": "code",
   "execution_count": 53,
   "id": "dcbba5ca-c0b2-475f-b529-b2b93a849448",
   "metadata": {},
   "outputs": [
    {
     "data": {
      "text/plain": [
       "[2, 4, 6]"
      ]
     },
     "execution_count": 53,
     "metadata": {},
     "output_type": "execute_result"
    }
   ],
   "source": [
    "list(filter(lambda num:num%2 == 0,mynums))"
   ]
  },
  {
   "cell_type": "code",
   "execution_count": 54,
   "id": "48aae829-5f19-422f-9231-1930a9c567f8",
   "metadata": {},
   "outputs": [
    {
     "data": {
      "text/plain": [
       "['Andy', 'Eve', 'Sally']"
      ]
     },
     "execution_count": 54,
     "metadata": {},
     "output_type": "execute_result"
    }
   ],
   "source": [
    "names"
   ]
  },
  {
   "cell_type": "code",
   "execution_count": 59,
   "id": "c7e77d58-2de9-4b38-8f2c-9ef228576b1c",
   "metadata": {},
   "outputs": [
    {
     "data": {
      "text/plain": [
       "['ydnA', 'evE', 'yllaS']"
      ]
     },
     "execution_count": 59,
     "metadata": {},
     "output_type": "execute_result"
    }
   ],
   "source": [
    "list(map(lambda name:name[::-1],names))"
   ]
  },
  {
   "cell_type": "code",
   "execution_count": 60,
   "id": "9b6197c8-df66-42c3-bec2-1feefac84be3",
   "metadata": {},
   "outputs": [],
   "source": [
    "x = 25\n",
    "\n",
    "def printer():\n",
    "    x = 50\n",
    "    return x"
   ]
  },
  {
   "cell_type": "code",
   "execution_count": 61,
   "id": "d980a9d4-d801-42ca-9143-0956fd1c928a",
   "metadata": {},
   "outputs": [
    {
     "name": "stdout",
     "output_type": "stream",
     "text": [
      "25\n"
     ]
    }
   ],
   "source": [
    "print(x)"
   ]
  },
  {
   "cell_type": "code",
   "execution_count": 62,
   "id": "679e138f-9adf-4d57-9bfe-4a736f7a4067",
   "metadata": {},
   "outputs": [
    {
     "name": "stdout",
     "output_type": "stream",
     "text": [
      "50\n"
     ]
    }
   ],
   "source": [
    "print(printer())"
   ]
  },
  {
   "cell_type": "code",
   "execution_count": 31,
   "id": "659d61ff-2883-4203-be74-8487bf21d478",
   "metadata": {},
   "outputs": [],
   "source": [
    "class Dog():\n",
    "\n",
    "    # CLASS OBJECT ATTRIBUTE\n",
    "    # SAME FOR ANY INSTANCE OF A CLASS\n",
    "    species = 'mammal'\n",
    "\n",
    "    def __init__(self,breed,name):\n",
    "\n",
    "        self.breed = breed\n",
    "        self.name = name\n",
    "\n",
    "    # OPERATIONS/Actions ---> Methods\n",
    "    def bark(self,number):\n",
    "        print(\"WOOF! My name is {} and my number is {}\".format(self.name,number))"
   ]
  },
  {
   "cell_type": "code",
   "execution_count": 32,
   "id": "dd783c32-3823-4239-acbe-5fee30e7d451",
   "metadata": {},
   "outputs": [],
   "source": [
    "my_dog = Dog('Lab','Frankie')"
   ]
  },
  {
   "cell_type": "code",
   "execution_count": 33,
   "id": "d0691cd6-9209-4ef0-a928-112aee6ae869",
   "metadata": {},
   "outputs": [
    {
     "data": {
      "text/plain": [
       "__main__.Dog"
      ]
     },
     "execution_count": 33,
     "metadata": {},
     "output_type": "execute_result"
    }
   ],
   "source": [
    "type(my_dog)"
   ]
  },
  {
   "cell_type": "code",
   "execution_count": 34,
   "id": "69c79bf3-d323-4dde-b7ef-81312fbd6cf6",
   "metadata": {},
   "outputs": [
    {
     "data": {
      "text/plain": [
       "'mammal'"
      ]
     },
     "execution_count": 34,
     "metadata": {},
     "output_type": "execute_result"
    }
   ],
   "source": [
    "my_dog.species"
   ]
  },
  {
   "cell_type": "code",
   "execution_count": 35,
   "id": "151acc2c-7e1e-4057-a443-6bf67e24c8d2",
   "metadata": {},
   "outputs": [
    {
     "data": {
      "text/plain": [
       "'Frankie'"
      ]
     },
     "execution_count": 35,
     "metadata": {},
     "output_type": "execute_result"
    }
   ],
   "source": [
    "my_dog.name"
   ]
  },
  {
   "cell_type": "code",
   "execution_count": 36,
   "id": "d5d5f0b2-98ac-4339-8939-3072da7724be",
   "metadata": {},
   "outputs": [
    {
     "name": "stdout",
     "output_type": "stream",
     "text": [
      "WOOF! My name is Frankie and my number is 10\n"
     ]
    }
   ],
   "source": [
    "my_dog.bark(10)"
   ]
  },
  {
   "cell_type": "code",
   "execution_count": 50,
   "id": "e5feeb55-1417-4ad0-854b-b35f924c43ac",
   "metadata": {},
   "outputs": [],
   "source": [
    "class Circle():\n",
    "\n",
    "    # CLASS OBJECT ATTRIBUTE\n",
    "    pi = 3.14\n",
    "\n",
    "    def __init__(self,radius=30):\n",
    "        \n",
    "        self.radius = radius\n",
    "        self.area = radius*radius*self.pi\n",
    "\n",
    "    # METHOD\n",
    "    def get_circumference(self):\n",
    "        return self.radius *self.pi * 2\n",
    "\n"
   ]
  },
  {
   "cell_type": "code",
   "execution_count": 51,
   "id": "0e0d3ce5-e7c7-4be5-9153-561250fb73de",
   "metadata": {},
   "outputs": [],
   "source": [
    "my_circle = Circle()"
   ]
  },
  {
   "cell_type": "code",
   "execution_count": 52,
   "id": "5f60085d-f784-4b20-9144-349e91ec5d2f",
   "metadata": {},
   "outputs": [
    {
     "data": {
      "text/plain": [
       "__main__.Circle"
      ]
     },
     "execution_count": 52,
     "metadata": {},
     "output_type": "execute_result"
    }
   ],
   "source": [
    "type(my_circle)"
   ]
  },
  {
   "cell_type": "code",
   "execution_count": 53,
   "id": "c1aeca49-c734-4483-ba6e-351ed2d6840a",
   "metadata": {},
   "outputs": [
    {
     "data": {
      "text/plain": [
       "3.14"
      ]
     },
     "execution_count": 53,
     "metadata": {},
     "output_type": "execute_result"
    }
   ],
   "source": [
    "my_circle.pi"
   ]
  },
  {
   "cell_type": "code",
   "execution_count": 54,
   "id": "b6038847-8baf-4a2b-b956-35609be34682",
   "metadata": {},
   "outputs": [
    {
     "data": {
      "text/plain": [
       "30"
      ]
     },
     "execution_count": 54,
     "metadata": {},
     "output_type": "execute_result"
    }
   ],
   "source": [
    "my_circle.radius"
   ]
  },
  {
   "cell_type": "code",
   "execution_count": 55,
   "id": "4fe274c9-de63-462d-8336-f918f9bb4eae",
   "metadata": {},
   "outputs": [
    {
     "data": {
      "text/plain": [
       "188.4"
      ]
     },
     "execution_count": 55,
     "metadata": {},
     "output_type": "execute_result"
    }
   ],
   "source": [
    "my_circle.get_circumference()"
   ]
  },
  {
   "cell_type": "code",
   "execution_count": 56,
   "id": "89b7053d-66f4-4425-aa2a-802c75fb9a75",
   "metadata": {},
   "outputs": [
    {
     "data": {
      "text/plain": [
       "2826.0"
      ]
     },
     "execution_count": 56,
     "metadata": {},
     "output_type": "execute_result"
    }
   ],
   "source": [
    "my_circle.area"
   ]
  },
  {
   "cell_type": "code",
   "execution_count": 63,
   "id": "fe490299-8c33-44a3-99c7-e806add10d99",
   "metadata": {},
   "outputs": [],
   "source": [
    "class Animal():\n",
    "\n",
    "    def __init__(self):\n",
    "        print(\"ANIMAL CREATED\")\n",
    "\n",
    "    def who_am_i(self):\n",
    "        print(\"I am an animal\")\n",
    "\n",
    "    def eat(self):\n",
    "        print(\"I am eating\")"
   ]
  },
  {
   "cell_type": "code",
   "execution_count": 66,
   "id": "d79068cf-dad2-4a36-a1e9-137b3cbb36b7",
   "metadata": {},
   "outputs": [
    {
     "name": "stdout",
     "output_type": "stream",
     "text": [
      "ANIMAL CREATED\n"
     ]
    }
   ],
   "source": [
    "myanimal = Animal();"
   ]
  },
  {
   "cell_type": "code",
   "execution_count": 68,
   "id": "64301b7b-d2ad-455a-9888-54a050dc1111",
   "metadata": {},
   "outputs": [
    {
     "name": "stdout",
     "output_type": "stream",
     "text": [
      "I am eating\n"
     ]
    }
   ],
   "source": [
    "myanimal.eat()"
   ]
  },
  {
   "cell_type": "code",
   "execution_count": 69,
   "id": "755f4264-00a6-4fee-9274-96ec7c72b722",
   "metadata": {},
   "outputs": [
    {
     "name": "stdout",
     "output_type": "stream",
     "text": [
      "I am an animal\n"
     ]
    }
   ],
   "source": [
    "myanimal.who_am_i()"
   ]
  },
  {
   "cell_type": "code",
   "execution_count": 82,
   "id": "da30ce7e-5b70-4016-b970-e6f9df5e759a",
   "metadata": {},
   "outputs": [],
   "source": [
    "class Dog(Animal):\n",
    "\n",
    "    def __init__(self):\n",
    "        Animal.__init__(self)\n",
    "        print(\"Dog Created\")\n",
    "\n",
    "    def who_am_i(self):\n",
    "        print(\"I am a dog!\")\n",
    "\n",
    "    def bark(self):\n",
    "        print(\"WHOOF!\")\n",
    "        "
   ]
  },
  {
   "cell_type": "code",
   "execution_count": 83,
   "id": "6ec7e1c5-dca8-4649-8117-f028f6e165db",
   "metadata": {},
   "outputs": [
    {
     "name": "stdout",
     "output_type": "stream",
     "text": [
      "ANIMAL CREATED\n",
      "Dog Created\n"
     ]
    }
   ],
   "source": [
    "mydog = Dog()"
   ]
  },
  {
   "cell_type": "code",
   "execution_count": 76,
   "id": "3329b692-baa1-4f96-9dc8-1fbd900bcd12",
   "metadata": {},
   "outputs": [
    {
     "name": "stdout",
     "output_type": "stream",
     "text": [
      "I am eating\n"
     ]
    }
   ],
   "source": [
    "mydog.eat()"
   ]
  },
  {
   "cell_type": "code",
   "execution_count": 81,
   "id": "b8af5eec-6635-4243-8b88-4598cc1d8e9c",
   "metadata": {},
   "outputs": [
    {
     "name": "stdout",
     "output_type": "stream",
     "text": [
      "I am a dog!\n"
     ]
    }
   ],
   "source": [
    "mydog.who_am_i()"
   ]
  },
  {
   "cell_type": "code",
   "execution_count": 84,
   "id": "410ed106-c0a5-4710-b5b9-0e2417b56a64",
   "metadata": {},
   "outputs": [
    {
     "name": "stdout",
     "output_type": "stream",
     "text": [
      "WHOOF!\n"
     ]
    }
   ],
   "source": [
    "mydog.bark()"
   ]
  },
  {
   "cell_type": "code",
   "execution_count": 89,
   "id": "8df3db66-4e61-4ed0-9cad-bd525d70d826",
   "metadata": {},
   "outputs": [],
   "source": [
    "class Dog():\n",
    "\n",
    "    def __init__(self,name):\n",
    "        self.name = name\n",
    "\n",
    "    def speak(self):\n",
    "        return self.name + \" says woof!\""
   ]
  },
  {
   "cell_type": "code",
   "execution_count": 88,
   "id": "5087b88d-cd30-46b7-8ffd-ba459050b9e7",
   "metadata": {},
   "outputs": [],
   "source": [
    "class Cat():\n",
    "\n",
    "    def __init__(self,name):\n",
    "        self.name = name\n",
    "\n",
    "    def speak(self):\n",
    "        return self.name + \" says meow!\""
   ]
  },
  {
   "cell_type": "code",
   "execution_count": 90,
   "id": "0a2d6167-3d21-4339-a528-19a7aa44df17",
   "metadata": {},
   "outputs": [],
   "source": [
    "niko = Dog(\"niko\")\n",
    "felix = Cat(\"felix\")"
   ]
  },
  {
   "cell_type": "code",
   "execution_count": 91,
   "id": "3bad2f13-0758-433d-a5c7-7e686b780ca4",
   "metadata": {},
   "outputs": [
    {
     "name": "stdout",
     "output_type": "stream",
     "text": [
      "niko says woof!\n"
     ]
    }
   ],
   "source": [
    "print(niko.speak())"
   ]
  },
  {
   "cell_type": "code",
   "execution_count": 92,
   "id": "697dc897-43d3-4031-b619-ecf888c7da5b",
   "metadata": {},
   "outputs": [
    {
     "name": "stdout",
     "output_type": "stream",
     "text": [
      "felix says meow!\n"
     ]
    }
   ],
   "source": [
    "print(felix.speak())"
   ]
  },
  {
   "cell_type": "code",
   "execution_count": 94,
   "id": "32b5539b-9008-4226-8ca9-5439c53e8be3",
   "metadata": {},
   "outputs": [
    {
     "name": "stdout",
     "output_type": "stream",
     "text": [
      "<class '__main__.Dog'>\n",
      "<class 'str'>\n",
      "<class '__main__.Cat'>\n",
      "<class 'str'>\n"
     ]
    }
   ],
   "source": [
    "for pet in [niko,felix]:\n",
    "\n",
    "    print(type(pet))\n",
    "    print(type(pet.speak()))"
   ]
  },
  {
   "cell_type": "code",
   "execution_count": 95,
   "id": "30e14305-0e24-48ac-b4fa-4cc0a20e3641",
   "metadata": {},
   "outputs": [],
   "source": [
    "def pet_speak(pet):\n",
    "    print(pet.speak())"
   ]
  },
  {
   "cell_type": "code",
   "execution_count": 96,
   "id": "a21dab0a-3f41-4676-a507-1945da5d180b",
   "metadata": {},
   "outputs": [
    {
     "name": "stdout",
     "output_type": "stream",
     "text": [
      "felix says meow!\n"
     ]
    }
   ],
   "source": [
    "pet_speak(felix)"
   ]
  },
  {
   "cell_type": "code",
   "execution_count": 97,
   "id": "7b5688e4-d688-4993-9bc7-daa653ba50d9",
   "metadata": {},
   "outputs": [
    {
     "name": "stdout",
     "output_type": "stream",
     "text": [
      "niko says woof!\n"
     ]
    }
   ],
   "source": [
    "pet_speak(niko)"
   ]
  },
  {
   "cell_type": "code",
   "execution_count": 98,
   "id": "734895b2-0215-4987-90b4-8c6f2a386e92",
   "metadata": {},
   "outputs": [],
   "source": [
    "class Animal():\n",
    "\n",
    "    def __init__(self,name):\n",
    "        self.name = name\n",
    "\n",
    "    def speak(self):\n",
    "        raise NotImplementedError(\"Subclass must implement this abstract method.\")"
   ]
  },
  {
   "cell_type": "code",
   "execution_count": 99,
   "id": "00afee99-fe41-4aaa-992c-87c0bbf309bb",
   "metadata": {},
   "outputs": [],
   "source": [
    "myanimal = Animal('fred')"
   ]
  },
  {
   "cell_type": "code",
   "execution_count": 100,
   "id": "eeca1578-5791-4e8d-bd33-ac21965ddfe6",
   "metadata": {},
   "outputs": [
    {
     "ename": "NotImplementedError",
     "evalue": "Subclass must implement this abstract method.",
     "output_type": "error",
     "traceback": [
      "\u001b[0;31m---------------------------------------------------------------------------\u001b[0m",
      "\u001b[0;31mNotImplementedError\u001b[0m                       Traceback (most recent call last)",
      "Cell \u001b[0;32mIn[100], line 1\u001b[0m\n\u001b[0;32m----> 1\u001b[0m \u001b[43mmyanimal\u001b[49m\u001b[38;5;241;43m.\u001b[39;49m\u001b[43mspeak\u001b[49m\u001b[43m(\u001b[49m\u001b[43m)\u001b[49m\n",
      "Cell \u001b[0;32mIn[98], line 7\u001b[0m, in \u001b[0;36mAnimal.speak\u001b[0;34m(self)\u001b[0m\n\u001b[1;32m      6\u001b[0m \u001b[38;5;28;01mdef\u001b[39;00m \u001b[38;5;21mspeak\u001b[39m(\u001b[38;5;28mself\u001b[39m):\n\u001b[0;32m----> 7\u001b[0m     \u001b[38;5;28;01mraise\u001b[39;00m \u001b[38;5;167;01mNotImplementedError\u001b[39;00m(\u001b[38;5;124m\"\u001b[39m\u001b[38;5;124mSubclass must implement this abstract method.\u001b[39m\u001b[38;5;124m\"\u001b[39m)\n",
      "\u001b[0;31mNotImplementedError\u001b[0m: Subclass must implement this abstract method."
     ]
    }
   ],
   "source": [
    "myanimal.speak()"
   ]
  },
  {
   "cell_type": "code",
   "execution_count": 101,
   "id": "86a1edba-556f-40be-b433-1016560f71a2",
   "metadata": {},
   "outputs": [],
   "source": [
    "class Dog(Animal):\n",
    "\n",
    "    def speak(self):\n",
    "        return self.name+ \" says woof!\""
   ]
  },
  {
   "cell_type": "code",
   "execution_count": 102,
   "id": "5bf998d3-c438-4d84-836d-2d92ffadf502",
   "metadata": {},
   "outputs": [],
   "source": [
    "class Cat(Animal):\n",
    "\n",
    "    def speak(self):\n",
    "        return self.name+ \" says meow!\""
   ]
  },
  {
   "cell_type": "code",
   "execution_count": 104,
   "id": "781abc45-3fb7-434a-b843-7534427f947f",
   "metadata": {},
   "outputs": [],
   "source": [
    "fido = Dog(\"Fido\")"
   ]
  },
  {
   "cell_type": "code",
   "execution_count": 105,
   "id": "1ffa538e-e17f-412b-a6c2-7dea063ec782",
   "metadata": {},
   "outputs": [],
   "source": [
    "isis = Cat(\"Isis\")"
   ]
  },
  {
   "cell_type": "code",
   "execution_count": 106,
   "id": "8246aeb7-2841-4654-98e2-8111169dee5d",
   "metadata": {},
   "outputs": [
    {
     "name": "stdout",
     "output_type": "stream",
     "text": [
      "Fido says woof!\n"
     ]
    }
   ],
   "source": [
    "print(fido.speak())"
   ]
  },
  {
   "cell_type": "code",
   "execution_count": 107,
   "id": "79676dc5-6a43-4620-9787-ed440ebb53d8",
   "metadata": {},
   "outputs": [
    {
     "name": "stdout",
     "output_type": "stream",
     "text": [
      "Isis says meow!\n"
     ]
    }
   ],
   "source": [
    "print(isis.speak())"
   ]
  },
  {
   "cell_type": "code",
   "execution_count": 108,
   "id": "9cb3ed9a-293c-4f1d-80e7-41fe75b35fc6",
   "metadata": {},
   "outputs": [],
   "source": [
    "mylist = [1,2,3]"
   ]
  },
  {
   "cell_type": "code",
   "execution_count": 109,
   "id": "3d844891-95ff-4a55-b417-d86b6906d663",
   "metadata": {},
   "outputs": [
    {
     "data": {
      "text/plain": [
       "3"
      ]
     },
     "execution_count": 109,
     "metadata": {},
     "output_type": "execute_result"
    }
   ],
   "source": [
    "len(mylist)"
   ]
  },
  {
   "cell_type": "code",
   "execution_count": 110,
   "id": "0f44c471-83b8-4603-9187-4176d2da4a9d",
   "metadata": {},
   "outputs": [],
   "source": [
    "class Sample():\n",
    "    pass"
   ]
  },
  {
   "cell_type": "code",
   "execution_count": 111,
   "id": "d07f403c-cd90-4c45-b405-bf89fc5d69a7",
   "metadata": {},
   "outputs": [],
   "source": [
    "mysample = Sample()"
   ]
  },
  {
   "cell_type": "code",
   "execution_count": 112,
   "id": "91ba4171-8643-4198-9553-d4bba3e063fe",
   "metadata": {},
   "outputs": [
    {
     "name": "stdout",
     "output_type": "stream",
     "text": [
      "<__main__.Sample object at 0x7ffa4ff1cc50>\n"
     ]
    }
   ],
   "source": [
    "print(mysample)"
   ]
  },
  {
   "cell_type": "code",
   "execution_count": 113,
   "id": "962fb23e-3795-4c06-b1c4-7b290e1e5608",
   "metadata": {},
   "outputs": [
    {
     "ename": "TypeError",
     "evalue": "object of type 'Sample' has no len()",
     "output_type": "error",
     "traceback": [
      "\u001b[0;31m---------------------------------------------------------------------------\u001b[0m",
      "\u001b[0;31mTypeError\u001b[0m                                 Traceback (most recent call last)",
      "Cell \u001b[0;32mIn[113], line 1\u001b[0m\n\u001b[0;32m----> 1\u001b[0m \u001b[38;5;28;43mlen\u001b[39;49m\u001b[43m(\u001b[49m\u001b[43mmysample\u001b[49m\u001b[43m)\u001b[49m\n",
      "\u001b[0;31mTypeError\u001b[0m: object of type 'Sample' has no len()"
     ]
    }
   ],
   "source": [
    "len(mysample)"
   ]
  },
  {
   "cell_type": "code",
   "execution_count": 126,
   "id": "ab40238f-ceaa-40ff-bae8-de375a596b4f",
   "metadata": {},
   "outputs": [],
   "source": [
    "class Book():\n",
    "\n",
    "    def __init__(self,title,author,pages):\n",
    "\n",
    "        self.title = title\n",
    "        self.author = author\n",
    "        self.pages = pages\n",
    "\n",
    "    def __str__(self):\n",
    "        return f\"{self.title} by {self.author}\"\n",
    "        \n",
    "    def __len__(self):\n",
    "        return self.pages\n",
    "\n",
    "    def __del__(self):\n",
    "        print(\"A book object has been deleted\")\n"
   ]
  },
  {
   "cell_type": "code",
   "execution_count": 127,
   "id": "ed850fc3-f506-4376-a5cd-c90390469f50",
   "metadata": {},
   "outputs": [],
   "source": [
    "b = Book('Python rocks','José',200)"
   ]
  },
  {
   "cell_type": "code",
   "execution_count": 128,
   "id": "ea550fe3-2b1d-43f9-a88d-dccf4a525fe1",
   "metadata": {},
   "outputs": [
    {
     "name": "stdout",
     "output_type": "stream",
     "text": [
      "Python rocks by José\n"
     ]
    }
   ],
   "source": [
    "print(b)"
   ]
  },
  {
   "cell_type": "code",
   "execution_count": 121,
   "id": "5148352d-bc5b-4b24-8c1f-2ff523a812f2",
   "metadata": {},
   "outputs": [
    {
     "data": {
      "text/plain": [
       "'Python rocks by José'"
      ]
     },
     "execution_count": 121,
     "metadata": {},
     "output_type": "execute_result"
    }
   ],
   "source": [
    "str(b)"
   ]
  },
  {
   "cell_type": "code",
   "execution_count": 125,
   "id": "ce3f0ffd-35e1-4c6d-9fc6-78b8b4631ea9",
   "metadata": {},
   "outputs": [
    {
     "data": {
      "text/plain": [
       "200"
      ]
     },
     "execution_count": 125,
     "metadata": {},
     "output_type": "execute_result"
    }
   ],
   "source": [
    "len(b)"
   ]
  },
  {
   "cell_type": "code",
   "execution_count": 129,
   "id": "0394fde7-b3db-45b8-b491-6e206fd2f212",
   "metadata": {},
   "outputs": [
    {
     "name": "stdout",
     "output_type": "stream",
     "text": [
      "A book object has been deleted\n"
     ]
    }
   ],
   "source": [
    "del b"
   ]
  },
  {
   "cell_type": "code",
   "execution_count": 1,
   "id": "6c1cfd39-d2b7-4564-8736-534fa24ff130",
   "metadata": {},
   "outputs": [],
   "source": [
    "def add(n1,n2):\n",
    "    print(n1+n2)"
   ]
  },
  {
   "cell_type": "code",
   "execution_count": 2,
   "id": "ece68e27-ca7b-4109-a3e9-9056b5a3233b",
   "metadata": {},
   "outputs": [
    {
     "name": "stdout",
     "output_type": "stream",
     "text": [
      "30\n"
     ]
    }
   ],
   "source": [
    "add(10,20)"
   ]
  },
  {
   "cell_type": "code",
   "execution_count": 3,
   "id": "f597b1d0-8239-471b-a20b-532833ce9228",
   "metadata": {},
   "outputs": [],
   "source": [
    "number1 = 10"
   ]
  },
  {
   "cell_type": "code",
   "execution_count": 4,
   "id": "450c9c41-9e88-421d-8642-7c97d766f7e4",
   "metadata": {},
   "outputs": [
    {
     "name": "stdin",
     "output_type": "stream",
     "text": [
      "Please provide a number:  20\n"
     ]
    }
   ],
   "source": [
    "number2 = input(\"Please provide a number: \")"
   ]
  },
  {
   "cell_type": "code",
   "execution_count": 24,
   "id": "b6300537-752a-41dc-9b5c-9bda449d8160",
   "metadata": {},
   "outputs": [
    {
     "name": "stdout",
     "output_type": "stream",
     "text": [
      "30\n"
     ]
    }
   ],
   "source": [
    "add(number1,int(number2))"
   ]
  },
  {
   "cell_type": "code",
   "execution_count": 7,
   "id": "fca8a63b-4d0b-4bdc-b80e-2b840a2c60e7",
   "metadata": {},
   "outputs": [
    {
     "name": "stdout",
     "output_type": "stream",
     "text": [
      "Hey it looks like you aren't adding correctly!\n"
     ]
    }
   ],
   "source": [
    "try:\n",
    "    result = 10 + '10'\n",
    "except:\n",
    "    print(\"Hey it looks like you aren't adding correctly!\")\n",
    "else:\n",
    "    print(\"Add went well!\")\n",
    "    print(result)"
   ]
  },
  {
   "cell_type": "code",
   "execution_count": 21,
   "id": "821cc712-6232-4913-a045-454be4b967ef",
   "metadata": {},
   "outputs": [],
   "source": [
    "def ask_for_int():\n",
    "    \n",
    "    while True:\n",
    "        try:\n",
    "            result = int(input(\"Prease prvide a number: \"))\n",
    "        except:\n",
    "            print(\"Whoops! That is not a number!\")\n",
    "            continue\n",
    "        else:\n",
    "            print(\"Yes thank you!\")\n",
    "            break\n",
    "        finally:\n",
    "            print(\"End of try/except/finally\")\n",
    "            print(\"I will always run at the end!\")    "
   ]
  },
  {
   "cell_type": "code",
   "execution_count": 22,
   "id": "24b5189f-6bf5-4ddf-bec4-337b4fc5eae8",
   "metadata": {},
   "outputs": [
    {
     "name": "stdin",
     "output_type": "stream",
     "text": [
      "Prease prvide a number:  a\n"
     ]
    },
    {
     "name": "stdout",
     "output_type": "stream",
     "text": [
      "Whoops! That is not a number!\n",
      "End of try/except/finally\n",
      "I will always run at the end!\n"
     ]
    },
    {
     "name": "stdin",
     "output_type": "stream",
     "text": [
      "Prease prvide a number:  1\n"
     ]
    },
    {
     "name": "stdout",
     "output_type": "stream",
     "text": [
      "Yes thank you!\n",
      "End of try/except/finally\n",
      "I will always run at the end!\n"
     ]
    }
   ],
   "source": [
    "ask_for_int()"
   ]
  },
  {
   "cell_type": "code",
   "execution_count": 1,
   "id": "7f660c7e-cd4a-4772-a7d3-26982d5fc81e",
   "metadata": {},
   "outputs": [],
   "source": [
    "def func():\n",
    "    return 1"
   ]
  },
  {
   "cell_type": "code",
   "execution_count": 3,
   "id": "54648a69-65df-4a77-90f2-b415e621b295",
   "metadata": {},
   "outputs": [
    {
     "data": {
      "text/plain": [
       "1"
      ]
     },
     "execution_count": 3,
     "metadata": {},
     "output_type": "execute_result"
    }
   ],
   "source": [
    "func()"
   ]
  },
  {
   "cell_type": "code",
   "execution_count": 11,
   "id": "c10002bc-fea8-4057-a108-e0048394c59f",
   "metadata": {},
   "outputs": [],
   "source": [
    "def hello(name='Jose'):\n",
    "    print('The hello() function has been executed!')\n",
    "\n",
    "    def greet():\n",
    "        return '\\t This is the greet() func inside hello!'\n",
    "\n",
    "    def welcome():\n",
    "        return '\\t This is welcome() inside hello'\n",
    "        \n",
    "\n",
    "    print('I am going to return a function!!')\n",
    "    \n",
    "    if name == 'Jose':\n",
    "        return greet\n",
    "    else:\n",
    "        return welcome\n",
    "    \n",
    "   \n",
    "    "
   ]
  },
  {
   "cell_type": "code",
   "execution_count": 13,
   "id": "3d1958e4-5164-4c61-8cbf-2e5c9b623865",
   "metadata": {},
   "outputs": [
    {
     "name": "stdout",
     "output_type": "stream",
     "text": [
      "The hello() function has been executed!\n",
      "I am going to return a function!!\n"
     ]
    }
   ],
   "source": [
    "my_new_func = hello('Jose')"
   ]
  },
  {
   "cell_type": "code",
   "execution_count": 17,
   "id": "06e707e7-f288-498b-ac80-78cbd52b7e93",
   "metadata": {},
   "outputs": [
    {
     "name": "stdout",
     "output_type": "stream",
     "text": [
      "\t This is the greet() func inside hello!\n"
     ]
    }
   ],
   "source": [
    "print(my_new_func())"
   ]
  },
  {
   "cell_type": "code",
   "execution_count": 19,
   "id": "1d97f070-8034-4651-9574-df6e5e4a0c2b",
   "metadata": {},
   "outputs": [],
   "source": [
    "def cool():\n",
    "\n",
    "    def super_cool():\n",
    "        return 'I am very cool!'\n",
    "\n",
    "    return super_cool"
   ]
  },
  {
   "cell_type": "code",
   "execution_count": 20,
   "id": "bac2ab3d-3b63-497a-a7b6-53e3f99f7c2f",
   "metadata": {},
   "outputs": [],
   "source": [
    "some_func = cool()"
   ]
  },
  {
   "cell_type": "code",
   "execution_count": 21,
   "id": "859d7d66-630f-44fa-8c07-6703cdefeb04",
   "metadata": {},
   "outputs": [
    {
     "data": {
      "text/plain": [
       "'I am very cool!'"
      ]
     },
     "execution_count": 21,
     "metadata": {},
     "output_type": "execute_result"
    }
   ],
   "source": [
    "some_func()"
   ]
  },
  {
   "cell_type": "code",
   "execution_count": 22,
   "id": "2cfff100-ee3f-4b17-8df8-a912a0ff8fbb",
   "metadata": {},
   "outputs": [],
   "source": [
    "def hello():\n",
    "    return 'Hi José!'"
   ]
  },
  {
   "cell_type": "code",
   "execution_count": 23,
   "id": "dbf47596-62b1-4235-9054-cac6105f29ae",
   "metadata": {},
   "outputs": [],
   "source": [
    "def other(some_def_func):\n",
    "    print('Other code runs here!')\n",
    "    print(some_def_func())"
   ]
  },
  {
   "cell_type": "code",
   "execution_count": 24,
   "id": "96bc02f6-7dd8-4a03-bce3-e6727ac2114f",
   "metadata": {},
   "outputs": [
    {
     "name": "stdout",
     "output_type": "stream",
     "text": [
      "Other code runs here!\n",
      "Hi José!\n"
     ]
    }
   ],
   "source": [
    "other(hello)"
   ]
  },
  {
   "cell_type": "code",
   "execution_count": 25,
   "id": "dbd9f27f-3f0e-48ea-8f99-0457872eae93",
   "metadata": {},
   "outputs": [],
   "source": [
    "def new_decorator(original_func):\n",
    "\n",
    "    def wrap_func():\n",
    "\n",
    "        print('Some extra code, before the original function.')\n",
    "\n",
    "        original_func()\n",
    "\n",
    "        print('Some extra code, after the original function.')\n",
    "    return wrap_func"
   ]
  },
  {
   "cell_type": "code",
   "execution_count": 26,
   "id": "f6265828-fd07-418a-ad2b-ce4a2913e910",
   "metadata": {},
   "outputs": [],
   "source": [
    "def func_needs_decorator():\n",
    "    print('I want to be decorated!')\n"
   ]
  },
  {
   "cell_type": "code",
   "execution_count": 27,
   "id": "3c22a9ba-ea8e-4ef2-a646-5b3480f6899b",
   "metadata": {},
   "outputs": [
    {
     "name": "stdout",
     "output_type": "stream",
     "text": [
      "I want to be decorated!\n"
     ]
    }
   ],
   "source": [
    "func_needs_decorator()"
   ]
  },
  {
   "cell_type": "code",
   "execution_count": 28,
   "id": "e186101c-e69f-4d4b-b711-634d84fd5666",
   "metadata": {},
   "outputs": [],
   "source": [
    "decorated_func = new_decorator(func_needs_decorator)"
   ]
  },
  {
   "cell_type": "code",
   "execution_count": 29,
   "id": "741e2b61-c900-4224-b99c-47b1a64ac6ff",
   "metadata": {},
   "outputs": [
    {
     "name": "stdout",
     "output_type": "stream",
     "text": [
      "Some extra code, before the original function.\n",
      "I want to be decorated!\n",
      "Some extra code, after the original function.\n"
     ]
    }
   ],
   "source": [
    "decorated_func()"
   ]
  },
  {
   "cell_type": "code",
   "execution_count": 30,
   "id": "ac7df1e7-bfe4-45bf-b374-7dc08dd1c7fa",
   "metadata": {},
   "outputs": [],
   "source": [
    "@new_decorator\n",
    "def func_needs_decorator():\n",
    "    print('I want to be decorated!')"
   ]
  },
  {
   "cell_type": "code",
   "execution_count": 31,
   "id": "0d9ccf35-a717-4899-b395-ba2af9ccc430",
   "metadata": {},
   "outputs": [
    {
     "name": "stdout",
     "output_type": "stream",
     "text": [
      "Some extra code, before the original function.\n",
      "I want to be decorated!\n",
      "Some extra code, after the original function.\n"
     ]
    }
   ],
   "source": [
    "func_needs_decorator()"
   ]
  },
  {
   "cell_type": "code",
   "execution_count": 36,
   "id": "8ceb5a6f-2b1e-4b52-a885-c5f41e25caf0",
   "metadata": {},
   "outputs": [],
   "source": [
    "def create_cubes(n):\n",
    " \n",
    "    for x in range(n):\n",
    "        yield x**3\n",
    "    "
   ]
  },
  {
   "cell_type": "code",
   "execution_count": 39,
   "id": "eb9cc9fe-18f9-4985-b25c-a79dbb809748",
   "metadata": {},
   "outputs": [
    {
     "name": "stdout",
     "output_type": "stream",
     "text": [
      "0\n",
      "1\n",
      "8\n",
      "27\n",
      "64\n",
      "125\n",
      "216\n",
      "343\n",
      "512\n",
      "729\n"
     ]
    }
   ],
   "source": [
    "for x in create_cubes(10):\n",
    "    print(x)"
   ]
  },
  {
   "cell_type": "code",
   "execution_count": 40,
   "id": "e25b606f-9964-4eaf-a0c4-be457b3a31c1",
   "metadata": {},
   "outputs": [],
   "source": [
    "def gen_fibon(x):\n",
    "\n",
    "    a = 1\n",
    "    b = 1\n",
    "    for i in range(x):\n",
    "        yield a\n",
    "        a,b = b,a+b"
   ]
  },
  {
   "cell_type": "code",
   "execution_count": 41,
   "id": "6ba9178c-7593-431c-a61f-aaf28bbc3dc4",
   "metadata": {},
   "outputs": [],
   "source": [
    "def simple_gen():\n",
    "    for x in range(3):\n",
    "        yield x"
   ]
  },
  {
   "cell_type": "code",
   "execution_count": 42,
   "id": "d83c9c33-b621-4641-94ef-cb377a4f883c",
   "metadata": {},
   "outputs": [
    {
     "name": "stdout",
     "output_type": "stream",
     "text": [
      "0\n",
      "1\n",
      "2\n"
     ]
    }
   ],
   "source": [
    "for number in simple_gen():\n",
    "    print(number)"
   ]
  },
  {
   "cell_type": "code",
   "execution_count": 44,
   "id": "d243a175-4d00-42a7-9f23-f1b195c86494",
   "metadata": {},
   "outputs": [],
   "source": [
    "g = simple_gen()"
   ]
  },
  {
   "cell_type": "code",
   "execution_count": 46,
   "id": "c137db96-b739-4afa-9cfa-72d7016fc6a2",
   "metadata": {},
   "outputs": [
    {
     "name": "stdout",
     "output_type": "stream",
     "text": [
      "1\n"
     ]
    }
   ],
   "source": [
    "print(next(g))"
   ]
  },
  {
   "cell_type": "code",
   "execution_count": 47,
   "id": "8dadbd7e-f309-44be-a875-1e0d14752d11",
   "metadata": {},
   "outputs": [],
   "source": [
    "s = 'hello'"
   ]
  },
  {
   "cell_type": "code",
   "execution_count": 48,
   "id": "20e9d28d-c927-4652-b513-d6643b273fdf",
   "metadata": {},
   "outputs": [],
   "source": [
    "s_iter = iter(s)"
   ]
  },
  {
   "cell_type": "code",
   "execution_count": 49,
   "id": "96bd898d-4ca7-4994-8528-42fbd1dca642",
   "metadata": {},
   "outputs": [
    {
     "data": {
      "text/plain": [
       "'h'"
      ]
     },
     "execution_count": 49,
     "metadata": {},
     "output_type": "execute_result"
    }
   ],
   "source": [
    "next(s_iter)"
   ]
  },
  {
   "cell_type": "code",
   "execution_count": null,
   "id": "dec77451-23e6-4a1b-b717-f886d6540674",
   "metadata": {},
   "outputs": [],
   "source": []
  }
 ],
 "metadata": {
  "kernelspec": {
   "display_name": "Python 3 (ipykernel)",
   "language": "python",
   "name": "python3"
  },
  "language_info": {
   "codemirror_mode": {
    "name": "ipython",
    "version": 3
   },
   "file_extension": ".py",
   "mimetype": "text/x-python",
   "name": "python",
   "nbconvert_exporter": "python",
   "pygments_lexer": "ipython3",
   "version": "3.11.9"
  }
 },
 "nbformat": 4,
 "nbformat_minor": 5
}
