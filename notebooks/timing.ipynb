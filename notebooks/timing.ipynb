{
 "cells": [
  {
   "cell_type": "code",
   "execution_count": 3,
   "id": "37dbd31a-f2b9-4d73-a545-9cfe5eda1471",
   "metadata": {},
   "outputs": [],
   "source": [
    "def func_one(n):\n",
    "    return [str(num) for num in range(n)]"
   ]
  },
  {
   "cell_type": "code",
   "execution_count": 4,
   "id": "23d6d980-53fc-4633-aace-438308ab139f",
   "metadata": {},
   "outputs": [
    {
     "data": {
      "text/plain": [
       "['0', '1', '2', '3', '4', '5', '6', '7', '8', '9']"
      ]
     },
     "execution_count": 4,
     "metadata": {},
     "output_type": "execute_result"
    }
   ],
   "source": [
    "func_one(10)"
   ]
  },
  {
   "cell_type": "code",
   "execution_count": 6,
   "id": "6609276f-5616-498c-ad53-72bd028f71b0",
   "metadata": {},
   "outputs": [],
   "source": [
    "def func_two(n):\n",
    "    return list(map(str,range(n)))"
   ]
  },
  {
   "cell_type": "code",
   "execution_count": 7,
   "id": "618b6b18-4bc7-4243-853a-62b71b8daba8",
   "metadata": {},
   "outputs": [
    {
     "data": {
      "text/plain": [
       "['0', '1', '2', '3', '4', '5', '6', '7', '8', '9']"
      ]
     },
     "execution_count": 7,
     "metadata": {},
     "output_type": "execute_result"
    }
   ],
   "source": [
    "func_two(10)"
   ]
  },
  {
   "cell_type": "code",
   "execution_count": 8,
   "id": "8c898647-5ec2-4fba-b835-d7b2ab0417ae",
   "metadata": {},
   "outputs": [],
   "source": [
    "import time"
   ]
  },
  {
   "cell_type": "code",
   "execution_count": 13,
   "id": "2ba0b719-cb4d-4bbf-a28f-16a7c2bf2f59",
   "metadata": {},
   "outputs": [
    {
     "name": "stdout",
     "output_type": "stream",
     "text": [
      "0.0003001689910888672\n"
     ]
    }
   ],
   "source": [
    "# CURRENT TIME BEFORE RUNNING THE CODE\n",
    "start_time = time.time()\n",
    "# RUN CODE\n",
    "result = func_one(1)\n",
    "# CURRENT TIME AFTER RUNNING THE CODE\n",
    "end_time = time.time()\n",
    "# ELAPSED TIME\n",
    "elapsed_time = end_time - start_time\n",
    "\n",
    "print(elapsed_time)"
   ]
  },
  {
   "cell_type": "code",
   "execution_count": 14,
   "id": "b81f8ada-8b09-4918-a99e-6a6b0b78c699",
   "metadata": {},
   "outputs": [
    {
     "name": "stdout",
     "output_type": "stream",
     "text": [
      "0.0003151893615722656\n"
     ]
    }
   ],
   "source": [
    "# CURRENT TIME BEFORE RUNNING THE CODE\n",
    "start_time = time.time()\n",
    "# RUN CODE\n",
    "result = func_two(1)\n",
    "# CURRENT TIME AFTER RUNNING THE CODE\n",
    "end_time = time.time()\n",
    "# ELAPSED TIME\n",
    "elapsed_time = end_time - start_time\n",
    "\n",
    "print(elapsed_time)"
   ]
  },
  {
   "cell_type": "code",
   "execution_count": 15,
   "id": "ffca8e2c-4226-4997-ac92-f615c78e18f8",
   "metadata": {},
   "outputs": [],
   "source": [
    "import timeit"
   ]
  },
  {
   "cell_type": "code",
   "execution_count": 16,
   "id": "9dfd58f3-e0cf-4ea9-bcdb-7b8ce61bee92",
   "metadata": {},
   "outputs": [],
   "source": [
    "stmt = '''\n",
    "func_one(100)\n",
    "'''"
   ]
  },
  {
   "cell_type": "code",
   "execution_count": 17,
   "id": "dd117268-8f5b-4b21-8df9-bbddcb9b9b97",
   "metadata": {},
   "outputs": [],
   "source": [
    "setup = '''\n",
    "def func_one(n):\n",
    "    return [str(num) for num in range(n)]\n",
    "'''"
   ]
  },
  {
   "cell_type": "code",
   "execution_count": 23,
   "id": "80adb1b6-53a0-4745-9060-6aeb76d0a0ae",
   "metadata": {},
   "outputs": [
    {
     "data": {
      "text/plain": [
       "8.25773469699925"
      ]
     },
     "execution_count": 23,
     "metadata": {},
     "output_type": "execute_result"
    }
   ],
   "source": [
    "timeit.timeit(stmt,setup,number=1000000)"
   ]
  },
  {
   "cell_type": "code",
   "execution_count": 19,
   "id": "be4cee0b-d210-4508-a374-139aff2c3b9c",
   "metadata": {},
   "outputs": [],
   "source": [
    "stmt2 = '''\n",
    "func_two(100)\n",
    "'''"
   ]
  },
  {
   "cell_type": "code",
   "execution_count": 20,
   "id": "80a7fc28-4d89-456d-a04f-5cb56caa6860",
   "metadata": {},
   "outputs": [],
   "source": [
    "setup2 = '''\n",
    "def func_two(n):\n",
    "    return list(map(str,range(n)))\n",
    "'''"
   ]
  },
  {
   "cell_type": "code",
   "execution_count": 24,
   "id": "d6cf557f-771b-4001-bc79-545a80c041bd",
   "metadata": {},
   "outputs": [
    {
     "data": {
      "text/plain": [
       "11.110706511000899"
      ]
     },
     "execution_count": 24,
     "metadata": {},
     "output_type": "execute_result"
    }
   ],
   "source": [
    "timeit.timeit(stmt2,setup2,number=1000000)"
   ]
  },
  {
   "cell_type": "code",
   "execution_count": 25,
   "id": "7b240591-16d0-4f27-9032-f880bdbeca53",
   "metadata": {},
   "outputs": [
    {
     "name": "stdout",
     "output_type": "stream",
     "text": [
      "7.29 μs ± 80.9 ns per loop (mean ± std. dev. of 7 runs, 100,000 loops each)\n"
     ]
    }
   ],
   "source": [
    "%%timeit\n",
    "func_one(100)"
   ]
  },
  {
   "cell_type": "code",
   "execution_count": 26,
   "id": "d145e347-fdf9-4948-8ad3-9ef5d18d9ba4",
   "metadata": {},
   "outputs": [
    {
     "name": "stdout",
     "output_type": "stream",
     "text": [
      "10.1 μs ± 188 ns per loop (mean ± std. dev. of 7 runs, 100,000 loops each)\n"
     ]
    }
   ],
   "source": [
    "%%timeit\n",
    "func_two(100)"
   ]
  },
  {
   "cell_type": "code",
   "execution_count": null,
   "id": "b8956906-1e57-4732-a52b-d2aae061f1ca",
   "metadata": {},
   "outputs": [],
   "source": []
  }
 ],
 "metadata": {
  "kernelspec": {
   "display_name": "Python 3 (ipykernel)",
   "language": "python",
   "name": "python3"
  },
  "language_info": {
   "codemirror_mode": {
    "name": "ipython",
    "version": 3
   },
   "file_extension": ".py",
   "mimetype": "text/x-python",
   "name": "python",
   "nbconvert_exporter": "python",
   "pygments_lexer": "ipython3",
   "version": "3.11.9"
  }
 },
 "nbformat": 4,
 "nbformat_minor": 5
}
